{
 "cells": [
  {
   "cell_type": "code",
   "execution_count": 1,
   "id": "578b68ea-ba6b-43e7-ad0d-ada63c3c4937",
   "metadata": {
    "tags": []
   },
   "outputs": [
    {
     "name": "stderr",
     "output_type": "stream",
     "text": [
      "/home/kwakaba/.pyenv/versions/3.8.16/envs/hitl-xai/lib/python3.8/site-packages/tqdm/auto.py:22: TqdmWarning: IProgress not found. Please update jupyter and ipywidgets. See https://ipywidgets.readthedocs.io/en/stable/user_install.html\n",
      "  from .autonotebook import tqdm as notebook_tqdm\n"
     ]
    }
   ],
   "source": [
    "import torch\n",
    "from transformers import BertTokenizer\n",
    "from model import BertForMultiLabelClassification\n",
    "tokenizer = BertTokenizer.from_pretrained(\"monologg/bert-base-cased-goemotions-original\")\n",
    "model = BertForMultiLabelClassification.from_pretrained(\"monologg/bert-base-cased-goemotions-original\")"
   ]
  },
  {
   "cell_type": "code",
   "execution_count": 2,
   "id": "7502bb69-c371-45cf-9147-fa77d92c6334",
   "metadata": {
    "tags": []
   },
   "outputs": [
    {
     "data": {
      "text/plain": [
       "BertLayer(\n",
       "  (attention): BertAttention(\n",
       "    (self): BertSelfAttention(\n",
       "      (query): Linear(in_features=768, out_features=768, bias=True)\n",
       "      (key): Linear(in_features=768, out_features=768, bias=True)\n",
       "      (value): Linear(in_features=768, out_features=768, bias=True)\n",
       "      (dropout): Dropout(p=0.1, inplace=False)\n",
       "    )\n",
       "    (output): BertSelfOutput(\n",
       "      (dense): Linear(in_features=768, out_features=768, bias=True)\n",
       "      (LayerNorm): LayerNorm((768,), eps=1e-12, elementwise_affine=True)\n",
       "      (dropout): Dropout(p=0.1, inplace=False)\n",
       "    )\n",
       "  )\n",
       "  (intermediate): BertIntermediate(\n",
       "    (dense): Linear(in_features=768, out_features=3072, bias=True)\n",
       "    (intermediate_act_fn): GELUActivation()\n",
       "  )\n",
       "  (output): BertOutput(\n",
       "    (dense): Linear(in_features=3072, out_features=768, bias=True)\n",
       "    (LayerNorm): LayerNorm((768,), eps=1e-12, elementwise_affine=True)\n",
       "    (dropout): Dropout(p=0.1, inplace=False)\n",
       "  )\n",
       ")"
      ]
     },
     "execution_count": 2,
     "metadata": {},
     "output_type": "execute_result"
    }
   ],
   "source": [
    "model.bert.encoder.layer[0]"
   ]
  },
  {
   "cell_type": "code",
   "execution_count": 3,
   "id": "abbd2e80-db8c-46e2-ae27-9673d233f523",
   "metadata": {
    "tags": []
   },
   "outputs": [
    {
     "data": {
      "text/plain": [
       "<torch.utils.hooks.RemovableHandle at 0x7fd4d9ed0220>"
      ]
     },
     "execution_count": 3,
     "metadata": {},
     "output_type": "execute_result"
    }
   ],
   "source": [
    "activation = {}\n",
    "def get_activation(name):\n",
    "    def hook(model, input, output):\n",
    "        activation[name] = output\n",
    "    return hook\n",
    "\n",
    "model.bert.encoder.layer[0].register_forward_hook(get_activation('enc_layer0'))"
   ]
  },
  {
   "cell_type": "code",
   "execution_count": 4,
   "id": "f9381e75-f0ba-4875-adf3-d1cec1943d29",
   "metadata": {
    "tags": []
   },
   "outputs": [],
   "source": [
    "x = tokenizer('I love this!')"
   ]
  },
  {
   "cell_type": "code",
   "execution_count": 5,
   "id": "3e29a65a-011a-4285-8a7f-9e4f4dc9959f",
   "metadata": {
    "tags": []
   },
   "outputs": [],
   "source": [
    "text = 'I love this!'\n",
    "x = tokenizer(text)\n",
    "output = model(torch.tensor([x['input_ids']]))"
   ]
  },
  {
   "cell_type": "code",
   "execution_count": 6,
   "id": "4aa72b9d-9a00-4179-b525-d919ed077483",
   "metadata": {
    "tags": []
   },
   "outputs": [
    {
     "name": "stdout",
     "output_type": "stream",
     "text": [
      "{'enc_layer0': (tensor([[[ 0.1944,  0.0351, -0.0609,  ..., -0.0459,  0.0716, -0.0028],\n",
      "         [-1.0277, -0.3622,  0.1901,  ...,  1.1369, -0.9902,  0.6291],\n",
      "         [ 0.5544,  0.6922, -0.7243,  ..., -1.0739, -0.8291,  0.1846],\n",
      "         [-1.1916, -0.9952, -1.1789,  ...,  0.1218,  0.5779,  0.0331],\n",
      "         [-0.8757,  0.7886,  0.3936,  ...,  0.3971, -0.8927, -0.1645],\n",
      "         [-0.1624,  0.1472, -0.1026,  ...,  0.3953, -0.7019,  0.0187]]],\n",
      "       grad_fn=<NativeLayerNormBackward0>),)}\n"
     ]
    }
   ],
   "source": [
    "print(activation)"
   ]
  },
  {
   "cell_type": "code",
   "execution_count": null,
   "id": "5299fdf2-8404-4774-95b3-9fa4ac91c681",
   "metadata": {},
   "outputs": [],
   "source": []
  }
 ],
 "metadata": {
  "kernelspec": {
   "display_name": "Python 3 (ipykernel)",
   "language": "python",
   "name": "python3"
  },
  "language_info": {
   "codemirror_mode": {
    "name": "ipython",
    "version": 3
   },
   "file_extension": ".py",
   "mimetype": "text/x-python",
   "name": "python",
   "nbconvert_exporter": "python",
   "pygments_lexer": "ipython3",
   "version": "3.8.16"
  }
 },
 "nbformat": 4,
 "nbformat_minor": 5
}
